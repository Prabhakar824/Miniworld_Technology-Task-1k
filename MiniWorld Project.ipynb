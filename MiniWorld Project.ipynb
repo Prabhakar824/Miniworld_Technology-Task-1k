{
 "cells": [
  {
   "cell_type": "code",
   "execution_count": 4,
   "id": "0dc0395d",
   "metadata": {},
   "outputs": [
    {
     "name": "stdout",
     "output_type": "stream",
     "text": [
      "Welcome to the Quote Generator!\n",
      "Enter your name: Prabhakar\n",
      "Available categories:\n",
      "-> inspire\n",
      "-> motivate\n",
      "-> success\n",
      "-> Love\n",
      "-> Life\n",
      "Select a category: success\n",
      "\n",
      "Here's your personalized quote:\n",
      "Never confuse a single defeat with a final defeat. ~ F. Scott Fitzgerald\n"
     ]
    }
   ],
   "source": [
    "import random\n",
    "\n",
    "# Define a dictionary of quote categories and their corresponding lists of quotes\n",
    "quote_categories = {\n",
    "    \"inspire\": [\n",
    "        \"That it will never come again is what makes life so sweet. – Emily Dickinson\",\n",
    "        \"It is never too late to be what you might have been. – George Eliot\",\n",
    "        \"To be yourself in a world that is constantly trying to make you something else is the greatest accomplishment. – Ralph Waldo Emerson\",\n",
    "        \"Pain is inevitable. Suffering is optional. – Haruki Murakam\"\n",
    "    ],\n",
    "     \"motivate\": [\n",
    "        \"All the worlds a stage, and all the men and women merely players. – William Shakespeare\",\n",
    "        \"Be kind, for everyone you meet is fighting a hard battle. – Plato\",\n",
    "        \"Unable are the loved to die for love is immortality. – Emily Dickinson\",\n",
    "        \"Let me live, love, and say it well in good sentences. – Sylvia Plath\"\n",
    "    ],\n",
    "     \"success\": [\n",
    "         \"The only limit to our realization of tomorrow will be our doubts of today. ~ Franklin D. Roosevelt\",\n",
    "         \"The road to success and the road to failure are almost exactly the same. ~ Colin R. Davis\",\n",
    "         \"If you want something you never had, you have to do something you’ve never done. ~ Thomas Jefferson\",\n",
    "         \"Only those who will risk going too far can possibly find out how far one can go. ~ T.S. Eliot\",\n",
    "         \"Never confuse a single defeat with a final defeat. ~ F. Scott Fitzgerald\"\n",
    "    ],\n",
    "     \"Love\": [\n",
    "        \"The only thing we never get enough of is love; and the only thing we never give enough of is love. — Henry Miller\",\n",
    "        \"Love makes your soul crawl out from its hiding place. — Zora Neale Hurston\",\n",
    "        \"Nobody has ever measured, even poets, how much a heart can hold. – Zelda Fitzgerald\",\n",
    "        \"I am grateful that you were born, that your love is mine, and our two lives are woven and welded together. — Mark Twain\",\n",
    "        \"Have enough courage to trust love one more time and always one more time. — Maya Angelou\"\n",
    "    ],\n",
    "     \"Life\": [\n",
    "        \"Appreciation is a wonderful thing. It makes what is excellent in others belong to us as well. – Voltaire\",\n",
    "        \"Life is tough my darling, but so are you. – Stephanie Bennett Henry\",\n",
    "        \"Self-awareness and self-love matter. Who we are is how we lead. – Brene Brown\",\n",
    "        \"Amateurs sit and wait for inspiration, the rest of us just get up and go to work. – Stephen King\"\n",
    "    ]\n",
    "}\n",
    "\n",
    "def get_user_name():\n",
    "    name = input(\"Enter your name: \")\n",
    "    return name\n",
    "\n",
    "def select_category():\n",
    "    print(\"Available categories:\")\n",
    "    for category in quote_categories.keys():\n",
    "        print(\"-> \" + category)\n",
    "    chosen_category = input(\"Select a category: \")\n",
    "    return chosen_category\n",
    "\n",
    "def get_random_quote(category):\n",
    "    if category in quote_categories:\n",
    "        return random.choice(quote_categories[category])\n",
    "    else:\n",
    "        return \"Category not found.\"\n",
    "\n",
    "def main():\n",
    "    print(\"Welcome to the Quote Generator!\")\n",
    "    name = get_user_name()\n",
    "    category = select_category()\n",
    "    quote = get_random_quote(category)\n",
    "    \n",
    "    personalized_quote = quote.replace(\" - \", f\" - {name}, \")\n",
    "    \n",
    "    print(\"\\nHere's your personalized quote:\")\n",
    "    print(personalized_quote)\n",
    "\n",
    "if __name__ == \"__main__\":\n",
    "    main()\n"
   ]
  },
  {
   "cell_type": "code",
   "execution_count": null,
   "id": "c2caee57",
   "metadata": {},
   "outputs": [],
   "source": []
  }
 ],
 "metadata": {
  "kernelspec": {
   "display_name": "Python 3 (ipykernel)",
   "language": "python",
   "name": "python3"
  },
  "language_info": {
   "codemirror_mode": {
    "name": "ipython",
    "version": 3
   },
   "file_extension": ".py",
   "mimetype": "text/x-python",
   "name": "python",
   "nbconvert_exporter": "python",
   "pygments_lexer": "ipython3",
   "version": "3.11.3"
  }
 },
 "nbformat": 4,
 "nbformat_minor": 5
}
